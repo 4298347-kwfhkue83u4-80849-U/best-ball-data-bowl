{
 "cells": [
  {
   "cell_type": "code",
   "execution_count": 1,
   "id": "f1add3de",
   "metadata": {},
   "outputs": [],
   "source": [
    "import pandas as pd"
   ]
  },
  {
   "cell_type": "code",
   "execution_count": 2,
   "id": "42061845",
   "metadata": {},
   "outputs": [
    {
     "data": {
      "text/html": [
       "<div>\n",
       "<style scoped>\n",
       "    .dataframe tbody tr th:only-of-type {\n",
       "        vertical-align: middle;\n",
       "    }\n",
       "\n",
       "    .dataframe tbody tr th {\n",
       "        vertical-align: top;\n",
       "    }\n",
       "\n",
       "    .dataframe thead th {\n",
       "        text-align: right;\n",
       "    }\n",
       "</style>\n",
       "<table border=\"1\" class=\"dataframe\">\n",
       "  <thead>\n",
       "    <tr style=\"text-align: right;\">\n",
       "      <th></th>\n",
       "      <th>draft_id</th>\n",
       "      <th>draft_time</th>\n",
       "      <th>clock</th>\n",
       "      <th>tournament_entry_id</th>\n",
       "      <th>tournament_round_number</th>\n",
       "      <th>player_name</th>\n",
       "      <th>position_name</th>\n",
       "      <th>bye_week</th>\n",
       "      <th>projection_adp</th>\n",
       "      <th>pick_order</th>\n",
       "      <th>overall_pick_number</th>\n",
       "      <th>team_pick_number</th>\n",
       "      <th>pick_points</th>\n",
       "      <th>roster_points</th>\n",
       "      <th>playoff_team</th>\n",
       "    </tr>\n",
       "  </thead>\n",
       "  <tbody>\n",
       "    <tr>\n",
       "      <th>0</th>\n",
       "      <td>00009a0e-b1a6-42e0-b1cf-3f884cc0999b</td>\n",
       "      <td>2021-08-28 17:06:42.031664+00:00</td>\n",
       "      <td>30</td>\n",
       "      <td>e1fdb4f8-4da3-4a09-8e6c-ef294c053251</td>\n",
       "      <td>1</td>\n",
       "      <td>Jalen Reagor</td>\n",
       "      <td>WR</td>\n",
       "      <td>14</td>\n",
       "      <td>139.48</td>\n",
       "      <td>1</td>\n",
       "      <td>144</td>\n",
       "      <td>12</td>\n",
       "      <td>31.2</td>\n",
       "      <td>1613.92</td>\n",
       "      <td>0</td>\n",
       "    </tr>\n",
       "    <tr>\n",
       "      <th>1</th>\n",
       "      <td>00009a0e-b1a6-42e0-b1cf-3f884cc0999b</td>\n",
       "      <td>2021-08-28 17:06:42.031664+00:00</td>\n",
       "      <td>30</td>\n",
       "      <td>b1e60f0c-2982-4e5c-8f80-da9a104cb290</td>\n",
       "      <td>1</td>\n",
       "      <td>Marquez Callaway</td>\n",
       "      <td>WR</td>\n",
       "      <td>6</td>\n",
       "      <td>107.46</td>\n",
       "      <td>6</td>\n",
       "      <td>115</td>\n",
       "      <td>10</td>\n",
       "      <td>81.9</td>\n",
       "      <td>1525.06</td>\n",
       "      <td>0</td>\n",
       "    </tr>\n",
       "    <tr>\n",
       "      <th>2</th>\n",
       "      <td>00009a0e-b1a6-42e0-b1cf-3f884cc0999b</td>\n",
       "      <td>2021-08-28 17:06:42.031664+00:00</td>\n",
       "      <td>30</td>\n",
       "      <td>b1e60f0c-2982-4e5c-8f80-da9a104cb290</td>\n",
       "      <td>1</td>\n",
       "      <td>Amari Cooper</td>\n",
       "      <td>WR</td>\n",
       "      <td>7</td>\n",
       "      <td>31.75</td>\n",
       "      <td>6</td>\n",
       "      <td>30</td>\n",
       "      <td>3</td>\n",
       "      <td>116.3</td>\n",
       "      <td>1525.06</td>\n",
       "      <td>0</td>\n",
       "    </tr>\n",
       "    <tr>\n",
       "      <th>3</th>\n",
       "      <td>00009a0e-b1a6-42e0-b1cf-3f884cc0999b</td>\n",
       "      <td>2021-08-28 17:06:42.031664+00:00</td>\n",
       "      <td>30</td>\n",
       "      <td>5388d065-c260-45cc-b9bf-fcb37f767d2c</td>\n",
       "      <td>1</td>\n",
       "      <td>Rhamondre Stevenson</td>\n",
       "      <td>RB</td>\n",
       "      <td>14</td>\n",
       "      <td>171.55</td>\n",
       "      <td>11</td>\n",
       "      <td>158</td>\n",
       "      <td>14</td>\n",
       "      <td>66.5</td>\n",
       "      <td>1669.72</td>\n",
       "      <td>1</td>\n",
       "    </tr>\n",
       "    <tr>\n",
       "      <th>4</th>\n",
       "      <td>00009a0e-b1a6-42e0-b1cf-3f884cc0999b</td>\n",
       "      <td>2021-08-28 17:06:42.031664+00:00</td>\n",
       "      <td>30</td>\n",
       "      <td>5388d065-c260-45cc-b9bf-fcb37f767d2c</td>\n",
       "      <td>1</td>\n",
       "      <td>Darrynton Evans</td>\n",
       "      <td>RB</td>\n",
       "      <td>13</td>\n",
       "      <td>201.35</td>\n",
       "      <td>11</td>\n",
       "      <td>203</td>\n",
       "      <td>17</td>\n",
       "      <td>2.8</td>\n",
       "      <td>1669.72</td>\n",
       "      <td>1</td>\n",
       "    </tr>\n",
       "  </tbody>\n",
       "</table>\n",
       "</div>"
      ],
      "text/plain": [
       "                               draft_id                        draft_time   \n",
       "0  00009a0e-b1a6-42e0-b1cf-3f884cc0999b  2021-08-28 17:06:42.031664+00:00  \\\n",
       "1  00009a0e-b1a6-42e0-b1cf-3f884cc0999b  2021-08-28 17:06:42.031664+00:00   \n",
       "2  00009a0e-b1a6-42e0-b1cf-3f884cc0999b  2021-08-28 17:06:42.031664+00:00   \n",
       "3  00009a0e-b1a6-42e0-b1cf-3f884cc0999b  2021-08-28 17:06:42.031664+00:00   \n",
       "4  00009a0e-b1a6-42e0-b1cf-3f884cc0999b  2021-08-28 17:06:42.031664+00:00   \n",
       "\n",
       "   clock                   tournament_entry_id  tournament_round_number   \n",
       "0     30  e1fdb4f8-4da3-4a09-8e6c-ef294c053251                        1  \\\n",
       "1     30  b1e60f0c-2982-4e5c-8f80-da9a104cb290                        1   \n",
       "2     30  b1e60f0c-2982-4e5c-8f80-da9a104cb290                        1   \n",
       "3     30  5388d065-c260-45cc-b9bf-fcb37f767d2c                        1   \n",
       "4     30  5388d065-c260-45cc-b9bf-fcb37f767d2c                        1   \n",
       "\n",
       "           player_name position_name  bye_week  projection_adp  pick_order   \n",
       "0         Jalen Reagor            WR        14          139.48           1  \\\n",
       "1     Marquez Callaway            WR         6          107.46           6   \n",
       "2         Amari Cooper            WR         7           31.75           6   \n",
       "3  Rhamondre Stevenson            RB        14          171.55          11   \n",
       "4      Darrynton Evans            RB        13          201.35          11   \n",
       "\n",
       "   overall_pick_number  team_pick_number  pick_points  roster_points   \n",
       "0                  144                12         31.2        1613.92  \\\n",
       "1                  115                10         81.9        1525.06   \n",
       "2                   30                 3        116.3        1525.06   \n",
       "3                  158                14         66.5        1669.72   \n",
       "4                  203                17          2.8        1669.72   \n",
       "\n",
       "   playoff_team  \n",
       "0             0  \n",
       "1             0  \n",
       "2             0  \n",
       "3             1  \n",
       "4             1  "
      ]
     },
     "execution_count": 2,
     "metadata": {},
     "output_type": "execute_result"
    }
   ],
   "source": [
    "df = pd.read_csv(\n",
    "    'data/2021/regular_season/part_00.csv'\n",
    ")\n",
    "\n",
    "df.head()"
   ]
  },
  {
   "cell_type": "code",
   "execution_count": 3,
   "id": "335635a9",
   "metadata": {},
   "outputs": [
    {
     "data": {
      "text/plain": [
       "array([0, 1], dtype=int64)"
      ]
     },
     "execution_count": 3,
     "metadata": {},
     "output_type": "execute_result"
    }
   ],
   "source": [
    "df['playoff_team'].unique()"
   ]
  },
  {
   "cell_type": "code",
   "execution_count": 4,
   "id": "e6727372",
   "metadata": {},
   "outputs": [
    {
     "data": {
      "text/plain": [
       "tournament_round_number\n",
       "1    550000\n",
       "Name: count, dtype: int64"
      ]
     },
     "execution_count": 4,
     "metadata": {},
     "output_type": "execute_result"
    }
   ],
   "source": [
    "df['tournament_round_number'].value_counts()"
   ]
  },
  {
   "cell_type": "code",
   "execution_count": null,
   "id": "34ccd4fa",
   "metadata": {},
   "outputs": [],
   "source": []
  }
 ],
 "metadata": {
  "kernelspec": {
   "display_name": "Python 3 (ipykernel)",
   "language": "python",
   "name": "python3"
  },
  "language_info": {
   "codemirror_mode": {
    "name": "ipython",
    "version": 3
   },
   "file_extension": ".py",
   "mimetype": "text/x-python",
   "name": "python",
   "nbconvert_exporter": "python",
   "pygments_lexer": "ipython3",
   "version": "3.9.13"
  }
 },
 "nbformat": 4,
 "nbformat_minor": 5
}
