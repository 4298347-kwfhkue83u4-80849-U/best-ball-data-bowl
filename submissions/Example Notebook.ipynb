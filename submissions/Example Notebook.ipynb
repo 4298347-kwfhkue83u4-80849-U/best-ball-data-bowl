{
 "cells": [
  {
   "attachments": {},
   "cell_type": "markdown",
   "id": "da1e7727",
   "metadata": {},
   "source": [
    "# Submission Title Goes Here\n",
    "## Participants: Fantasy Data Pros (Ben Dominguez, Peter Overzet, Loudog)\n",
    "\n",
    "[@bendominguez011](https://www.twitter.com/bendominguez011)\n",
    "[@peteroverzet](https://www.twitter.com/peteroverzet)\n",
    "[@loudogvideo](https://www.twitter.com/loudogvideo)\n",
    "\n",
    "This is an example notebook that should be as a guideline for your submission. Write a submission title with an H1 heading (#), and then either your name or your team name (and the names of your team members as well) with an H2 (##). If you'd like, you can also add your Twitter handles, any organizations you're associated with, or any other personal/professional social links.\n",
    "\n",
    "\n",
    "Write a brief introduction explaining the topic you're exploring in your notebook, and then get started!"
   ]
  },
  {
   "cell_type": "code",
   "execution_count": 2,
   "id": "dfa7878c",
   "metadata": {},
   "outputs": [],
   "source": [
    "import pandas as pd"
   ]
  },
  {
   "attachments": {},
   "cell_type": "markdown",
   "id": "a57d7dd7",
   "metadata": {},
   "source": [
    "Your notebook should contain both code and text, there's a 2000 word maximum to keep in mind when writing text, although it's okay if you go a bit over. After each code block or figure, you should include context and reasoning for each step in your analysis.\n",
    "\n",
    "While this example is a Jupyter notebook, you're welcome to use R if you feel more comfortable doing so - you can either embed an R kernel within Jupyter or submit an R markdown notebook."
   ]
  },
  {
   "cell_type": "code",
   "execution_count": 4,
   "id": "31f9e1ea",
   "metadata": {},
   "outputs": [
    {
     "data": {
      "text/html": [
       "<div>\n",
       "<style scoped>\n",
       "    .dataframe tbody tr th:only-of-type {\n",
       "        vertical-align: middle;\n",
       "    }\n",
       "\n",
       "    .dataframe tbody tr th {\n",
       "        vertical-align: top;\n",
       "    }\n",
       "\n",
       "    .dataframe thead th {\n",
       "        text-align: right;\n",
       "    }\n",
       "</style>\n",
       "<table border=\"1\" class=\"dataframe\">\n",
       "  <thead>\n",
       "    <tr style=\"text-align: right;\">\n",
       "      <th></th>\n",
       "      <th>team</th>\n",
       "      <th>player</th>\n",
       "      <th>drafted_round</th>\n",
       "      <th>roster_points</th>\n",
       "      <th>pick_points</th>\n",
       "      <th>draft_time</th>\n",
       "      <th>playoff_round</th>\n",
       "      <th>made_playoffs</th>\n",
       "    </tr>\n",
       "  </thead>\n",
       "  <tbody>\n",
       "    <tr>\n",
       "      <th>0</th>\n",
       "      <td>081ea432-dcf5-4370-932d-b53ac2296900</td>\n",
       "      <td>A.J. Brown</td>\n",
       "      <td>4</td>\n",
       "      <td>109.94</td>\n",
       "      <td>0.0</td>\n",
       "      <td>2020-12-22 17:04:23 UTC</td>\n",
       "      <td>Round 4</td>\n",
       "      <td>1</td>\n",
       "    </tr>\n",
       "    <tr>\n",
       "      <th>1</th>\n",
       "      <td>081ea432-dcf5-4370-932d-b53ac2296900</td>\n",
       "      <td>Antonio Brown</td>\n",
       "      <td>15</td>\n",
       "      <td>109.94</td>\n",
       "      <td>11.5</td>\n",
       "      <td>2020-12-22 17:04:23 UTC</td>\n",
       "      <td>Round 4</td>\n",
       "      <td>1</td>\n",
       "    </tr>\n",
       "    <tr>\n",
       "      <th>2</th>\n",
       "      <td>081ea432-dcf5-4370-932d-b53ac2296900</td>\n",
       "      <td>Baker Mayfield</td>\n",
       "      <td>13</td>\n",
       "      <td>109.94</td>\n",
       "      <td>0.0</td>\n",
       "      <td>2020-12-22 17:04:23 UTC</td>\n",
       "      <td>Round 4</td>\n",
       "      <td>1</td>\n",
       "    </tr>\n",
       "    <tr>\n",
       "      <th>3</th>\n",
       "      <td>081ea432-dcf5-4370-932d-b53ac2296900</td>\n",
       "      <td>Chase Edmonds</td>\n",
       "      <td>10</td>\n",
       "      <td>109.94</td>\n",
       "      <td>0.0</td>\n",
       "      <td>2020-12-22 17:04:23 UTC</td>\n",
       "      <td>Round 4</td>\n",
       "      <td>1</td>\n",
       "    </tr>\n",
       "    <tr>\n",
       "      <th>4</th>\n",
       "      <td>081ea432-dcf5-4370-932d-b53ac2296900</td>\n",
       "      <td>D.J. Chark</td>\n",
       "      <td>5</td>\n",
       "      <td>109.94</td>\n",
       "      <td>14.2</td>\n",
       "      <td>2020-12-22 17:04:23 UTC</td>\n",
       "      <td>Round 4</td>\n",
       "      <td>1</td>\n",
       "    </tr>\n",
       "  </tbody>\n",
       "</table>\n",
       "</div>"
      ],
      "text/plain": [
       "                                   team          player  drafted_round   \n",
       "0  081ea432-dcf5-4370-932d-b53ac2296900      A.J. Brown              4  \\\n",
       "1  081ea432-dcf5-4370-932d-b53ac2296900   Antonio Brown             15   \n",
       "2  081ea432-dcf5-4370-932d-b53ac2296900  Baker Mayfield             13   \n",
       "3  081ea432-dcf5-4370-932d-b53ac2296900   Chase Edmonds             10   \n",
       "4  081ea432-dcf5-4370-932d-b53ac2296900      D.J. Chark              5   \n",
       "\n",
       "   roster_points  pick_points               draft_time playoff_round   \n",
       "0         109.94          0.0  2020-12-22 17:04:23 UTC       Round 4  \\\n",
       "1         109.94         11.5  2020-12-22 17:04:23 UTC       Round 4   \n",
       "2         109.94          0.0  2020-12-22 17:04:23 UTC       Round 4   \n",
       "3         109.94          0.0  2020-12-22 17:04:23 UTC       Round 4   \n",
       "4         109.94         14.2  2020-12-22 17:04:23 UTC       Round 4   \n",
       "\n",
       "   made_playoffs  \n",
       "0              1  \n",
       "1              1  \n",
       "2              1  \n",
       "3              1  \n",
       "4              1  "
      ]
     },
     "execution_count": 4,
     "metadata": {},
     "output_type": "execute_result"
    }
   ],
   "source": [
    "df = pd.read_csv('../data/2020/part_00.csv')\n",
    "df.head()"
   ]
  },
  {
   "cell_type": "code",
   "execution_count": 5,
   "id": "831dfe47",
   "metadata": {},
   "outputs": [
    {
     "data": {
      "image/png": "[encoded data removed]",
      "text/plain": [
       "<Figure size 640x480 with 1 Axes>"
      ]
     },
     "metadata": {},
     "output_type": "display_data"
    }
   ],
   "source": [
    "df.pick_points.plot.hist();"
   ]
  },
  {
   "cell_type": "markdown",
   "id": "0b5d0f72",
   "metadata": {},
   "source": [
    "There's also a limit on how many tables / figures you can add. We've set that number to 15, although if you go 1 or 2 over it's okay.\n",
    "\n",
    "At the end of the notebook, sum up your conclusions in a conclusion paragraph. This is an example so this notebook is much, much shorter than what the ideal submission should look like.\n",
    "\n",
    "After you're done, make a PR to [the Github repository](https://github.com/fantasydatapros/best-ball-data-bowl) and add a comment that includes your submission title, team name / your name, and a brief description of your findings.\n",
    "\n",
    "Good luck!"
   ]
  }
 ],
 "metadata": {
  "kernelspec": {
   "display_name": "Python 3 (ipykernel)",
   "language": "python",
   "name": "python3"
  },
  "language_info": {
   "codemirror_mode": {
    "name": "ipython",
    "version": 3
   },
   "file_extension": ".py",
   "mimetype": "text/x-python",
   "name": "python",
   "nbconvert_exporter": "python",
   "pygments_lexer": "ipython3",
   "version": "3.9.13"
  }
 },
 "nbformat": 4,
 "nbformat_minor": 5
}
